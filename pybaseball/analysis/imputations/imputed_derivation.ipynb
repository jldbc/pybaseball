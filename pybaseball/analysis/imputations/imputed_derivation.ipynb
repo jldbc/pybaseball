{
 "cells": [
  {
   "cell_type": "markdown",
   "metadata": {},
   "source": [
    "# Isolate Imputations\n",
    "\n",
    "An inital approach to isolate imputations was to copy and paste from the related article on Fangraphs. This notebook serves as an analysis approach to _derive_ the imputed values based on flagging if a certain exit velo/launch angle comprises more than a given percentage of the total dataset for a bb_type."
   ]
  },
  {
   "cell_type": "code",
   "execution_count": 1,
   "metadata": {},
   "outputs": [],
   "source": [
    "from pybaseball import statcast, utils\n",
    "import matplotlib.pyplot as plt\n",
    "import numpy as np\n",
    "import pandas as pd\n",
    "from pybaseball.plotting import plot_bb_profile"
   ]
  },
  {
   "cell_type": "markdown",
   "metadata": {},
   "source": [
    "Since there's a bit of variance year-to-year and especially difference in 2020 with Hawkeye, grab a month from each year"
   ]
  },
  {
   "cell_type": "code",
   "execution_count": 2,
   "metadata": {},
   "outputs": [
    {
     "name": "stdout",
     "output_type": "stream",
     "text": [
      "Starting year 2015\n",
      "This is a large query, it may take a moment to complete\n",
      "Starting year 2016\n",
      "This is a large query, it may take a moment to complete\n",
      "Starting year 2017\n",
      "This is a large query, it may take a moment to complete\n",
      "Starting year 2018\n",
      "This is a large query, it may take a moment to complete\n",
      "Starting year 2019\n",
      "This is a large query, it may take a moment to complete\n",
      "Starting year 2020\n",
      "This is a large query, it may take a moment to complete\n"
     ]
    }
   ],
   "source": [
    "# Grab 1 month per year\n",
    "dfs = []\n",
    "for year in range(2015, 2021):\n",
    "    print(f\"Starting year {year}\")\n",
    "    dfs.append(statcast(start_dt=f'{year}-08-01', end_dt=f'{year}-09-01',verbose=False))"
   ]
  },
  {
   "cell_type": "markdown",
   "metadata": {},
   "source": [
    "Calculate the fraction per year a given ev/launch angle makes up, then put those together into one DF.\n",
    "\n",
    "The topline `threshold` defines what fraction of total annual bb_type we use to raise a possible imputation."
   ]
  },
  {
   "cell_type": "code",
   "execution_count": 3,
   "metadata": {},
   "outputs": [],
   "source": [
    "threshold = 0.002\n",
    "summary = None\n",
    "for year,df in zip(range(2015, 2021),dfs):\n",
    "    for bb_type in dfs[0].bb_type.dropna().unique():\n",
    "        # Isolate each bb_type\n",
    "        i = df[df[\"bb_type\"] == bb_type]\n",
    "        # Sort by pairs of launch angle and speed\n",
    "        i = i.groupby([\"launch_angle\", \"launch_speed\"]).size().reset_index(name=\"count\").sort_values(\"count\", ascending=False)\n",
    "        # Derive fraction of total\n",
    "        i[\"fraction\"] = i[\"count\"] / i[\"count\"].sum()\n",
    "        # Flagging as possibly imputed criterion\n",
    "        i[\"flag\"] = (i[\"fraction\"] > threshold)\n",
    "        i[\"bb_type\"] = bb_type\n",
    "        i[\"year\"] = year\n",
    "        flagged = i[i[\"flag\"] == True]\n",
    "\n",
    "\n",
    "        # Add to dataframe (or create on first iteration)\n",
    "        if summary is not None:\n",
    "            summary = summary.append(flagged[[\"launch_angle\",\"launch_speed\",\"count\",\"bb_type\",\"year\"]])\n",
    "        else:\n",
    "            summary = flagged[[\"launch_angle\",\"launch_speed\",\"count\",\"bb_type\",\"year\"]]"
   ]
  },
  {
   "cell_type": "markdown",
   "metadata": {},
   "source": [
    "Group over years to see the cases where the threshold is passed"
   ]
  },
  {
   "cell_type": "code",
   "execution_count": 4,
   "metadata": {},
   "outputs": [
    {
     "data": {
      "text/html": [
       "<div>\n",
       "<style scoped>\n",
       "    .dataframe tbody tr th:only-of-type {\n",
       "        vertical-align: middle;\n",
       "    }\n",
       "\n",
       "    .dataframe tbody tr th {\n",
       "        vertical-align: top;\n",
       "    }\n",
       "\n",
       "    .dataframe thead th {\n",
       "        text-align: right;\n",
       "    }\n",
       "</style>\n",
       "<table border=\"1\" class=\"dataframe\">\n",
       "  <thead>\n",
       "    <tr style=\"text-align: right;\">\n",
       "      <th></th>\n",
       "      <th>launch_angle</th>\n",
       "      <th>launch_speed</th>\n",
       "      <th>bb_type</th>\n",
       "      <th>Years above threshold</th>\n",
       "    </tr>\n",
       "  </thead>\n",
       "  <tbody>\n",
       "    <tr>\n",
       "      <th>0</th>\n",
       "      <td>-21.0</td>\n",
       "      <td>82.9</td>\n",
       "      <td>ground_ball</td>\n",
       "      <td>5</td>\n",
       "    </tr>\n",
       "    <tr>\n",
       "      <th>1</th>\n",
       "      <td>-17.0</td>\n",
       "      <td>90.3</td>\n",
       "      <td>ground_ball</td>\n",
       "      <td>5</td>\n",
       "    </tr>\n",
       "    <tr>\n",
       "      <th>2</th>\n",
       "      <td>15.0</td>\n",
       "      <td>90.4</td>\n",
       "      <td>line_drive</td>\n",
       "      <td>2</td>\n",
       "    </tr>\n",
       "    <tr>\n",
       "      <th>3</th>\n",
       "      <td>18.0</td>\n",
       "      <td>91.1</td>\n",
       "      <td>line_drive</td>\n",
       "      <td>3</td>\n",
       "    </tr>\n",
       "    <tr>\n",
       "      <th>4</th>\n",
       "      <td>30.0</td>\n",
       "      <td>102.8</td>\n",
       "      <td>fly_ball</td>\n",
       "      <td>1</td>\n",
       "    </tr>\n",
       "    <tr>\n",
       "      <th>5</th>\n",
       "      <td>39.0</td>\n",
       "      <td>89.2</td>\n",
       "      <td>fly_ball</td>\n",
       "      <td>5</td>\n",
       "    </tr>\n",
       "    <tr>\n",
       "      <th>6</th>\n",
       "      <td>61.0</td>\n",
       "      <td>79.9</td>\n",
       "      <td>popup</td>\n",
       "      <td>1</td>\n",
       "    </tr>\n",
       "    <tr>\n",
       "      <th>7</th>\n",
       "      <td>62.0</td>\n",
       "      <td>86.3</td>\n",
       "      <td>popup</td>\n",
       "      <td>1</td>\n",
       "    </tr>\n",
       "    <tr>\n",
       "      <th>8</th>\n",
       "      <td>69.0</td>\n",
       "      <td>80.0</td>\n",
       "      <td>popup</td>\n",
       "      <td>5</td>\n",
       "    </tr>\n",
       "    <tr>\n",
       "      <th>9</th>\n",
       "      <td>70.0</td>\n",
       "      <td>72.3</td>\n",
       "      <td>popup</td>\n",
       "      <td>1</td>\n",
       "    </tr>\n",
       "  </tbody>\n",
       "</table>\n",
       "</div>"
      ],
      "text/plain": [
       "   launch_angle  launch_speed      bb_type  Years above threshold\n",
       "0         -21.0          82.9  ground_ball                      5\n",
       "1         -17.0          90.3  ground_ball                      5\n",
       "2          15.0          90.4   line_drive                      2\n",
       "3          18.0          91.1   line_drive                      3\n",
       "4          30.0         102.8     fly_ball                      1\n",
       "5          39.0          89.2     fly_ball                      5\n",
       "6          61.0          79.9        popup                      1\n",
       "7          62.0          86.3        popup                      1\n",
       "8          69.0          80.0        popup                      5\n",
       "9          70.0          72.3        popup                      1"
      ]
     },
     "execution_count": 4,
     "metadata": {},
     "output_type": "execute_result"
    }
   ],
   "source": [
    "# Print out the results\n",
    "summary.groupby([\"launch_angle\", \"launch_speed\",\"bb_type\"]).size().reset_index(name=\"Years above threshold\")\n"
   ]
  },
  {
   "cell_type": "markdown",
   "metadata": {},
   "source": [
    "Validate Results:"
   ]
  },
  {
   "cell_type": "code",
   "execution_count": 5,
   "metadata": {},
   "outputs": [
    {
     "data": {
      "image/png": "[encoded data removed]",
      "text/plain": [
       "<Figure size 432x288 with 1 Axes>"
      ]
     },
     "metadata": {
      "needs_background": "light"
     },
     "output_type": "display_data"
    },
    {
     "data": {
      "image/png": "[encoded data removed]",
      "text/plain": [
       "<Figure size 432x288 with 1 Axes>"
      ]
     },
     "metadata": {
      "needs_background": "light"
     },
     "output_type": "display_data"
    },
    {
     "data": {
      "image/png": "[encoded data removed]",
      "text/plain": [
       "<Figure size 432x288 with 1 Axes>"
      ]
     },
     "metadata": {
      "needs_background": "light"
     },
     "output_type": "display_data"
    },
    {
     "data": {
      "image/png": "[encoded data removed]",
      "text/plain": [
       "<Figure size 432x288 with 1 Axes>"
      ]
     },
     "metadata": {
      "needs_background": "light"
     },
     "output_type": "display_data"
    },
    {
     "data": {
      "image/png": "[encoded data removed]",
      "text/plain": [
       "<Figure size 432x288 with 1 Axes>"
      ]
     },
     "metadata": {
      "needs_background": "light"
     },
     "output_type": "display_data"
    },
    {
     "data": {
      "image/png": "[encoded data removed]",
      "text/plain": [
       "<Figure size 432x288 with 1 Axes>"
      ]
     },
     "metadata": {
      "needs_background": "light"
     },
     "output_type": "display_data"
    }
   ],
   "source": [
    "for i,year in enumerate(range(2015, 2021)):\n",
    "    plot_bb_profile(dfs[i])\n",
    "    plt.title(f'{year}')\n",
    "    plt.xlabel(\"Launch Angle\")\n",
    "    plt.show()"
   ]
  },
  {
   "cell_type": "code",
   "execution_count": 6,
   "metadata": {},
   "outputs": [
    {
     "data": {
      "image/png": "[encoded data removed]",
      "text/plain": [
       "<Figure size 432x288 with 1 Axes>"
      ]
     },
     "metadata": {
      "needs_background": "light"
     },
     "output_type": "display_data"
    },
    {
     "data": {
      "image/png": "[encoded data removed]",
      "text/plain": [
       "<Figure size 432x288 with 1 Axes>"
      ]
     },
     "metadata": {
      "needs_background": "light"
     },
     "output_type": "display_data"
    },
    {
     "data": {
      "image/png": "[encoded data removed]",
      "text/plain": [
       "<Figure size 432x288 with 1 Axes>"
      ]
     },
     "metadata": {
      "needs_background": "light"
     },
     "output_type": "display_data"
    },
    {
     "data": {
      "image/png": "[encoded data removed]",
      "text/plain": [
       "<Figure size 432x288 with 1 Axes>"
      ]
     },
     "metadata": {
      "needs_background": "light"
     },
     "output_type": "display_data"
    },
    {
     "data": {
      "image/png": "[encoded data removed]",
      "text/plain": [
       "<Figure size 432x288 with 1 Axes>"
      ]
     },
     "metadata": {
      "needs_background": "light"
     },
     "output_type": "display_data"
    },
    {
     "data": {
      "image/png": "[encoded data removed]",
      "text/plain": [
       "<Figure size 432x288 with 1 Axes>"
      ]
     },
     "metadata": {
      "needs_background": "light"
     },
     "output_type": "display_data"
    }
   ],
   "source": [
    "for i,year in enumerate(range(2015, 2021)):\n",
    "    skimmed_df = dfs[i].merge(summary.drop_duplicates(), how=\"left\", on=[\"launch_angle\",\"launch_speed\",\"bb_type\"],indicator=True)\n",
    "    plot_bb_profile(skimmed_df[skimmed_df['_merge'] == 'left_only'])\n",
    "    plt.title(f'{year}')\n",
    "    plt.xlabel(\"Launch Angle\")\n",
    "    plt.show()"
   ]
  },
  {
   "cell_type": "markdown",
   "metadata": {},
   "source": [
    "Output distributions look clean, so this set looks like a good start.\n",
    "\n",
    "Also want to output top handful for each bb_type for each year. This repeats some code above - not the cleanest, but I don't want the key parts of the notebook buried under a huge number of tables."
   ]
  },
  {
   "cell_type": "code",
   "execution_count": 8,
   "metadata": {},
   "outputs": [
    {
     "name": "stdout",
     "output_type": "stream",
     "text": [
      "bb_type: line_drive, year: 2015\n",
      "      launch_angle  launch_speed  count  fraction\n",
      "2293          18.0          91.1     16  0.002569\n",
      "1628          15.0          90.4     15  0.002409\n",
      "2123          17.0          98.8      6  0.000964\n",
      "2148          17.0         102.1      5  0.000803\n",
      "1500          14.0         101.8      5  0.000803\n",
      "bb_type: fly_ball, year: 2015\n",
      "      launch_angle  launch_speed  count  fraction\n",
      "2133          39.0          89.2     79  0.017137\n",
      "1005          31.0          95.6      6  0.001302\n",
      "1694          36.0          71.4      6  0.001302\n",
      "887           30.0         102.8      6  0.001302\n",
      "715           29.0          96.6      4  0.000868\n",
      "bb_type: ground_ball, year: 2015\n",
      "      launch_angle  launch_speed  count  fraction\n",
      "1683         -21.0          82.9   1189  0.113617\n",
      "2223         -17.0          90.3    186  0.017774\n",
      "2771         -13.0          90.2     10  0.000956\n",
      "4583          -3.0          94.0      6  0.000573\n",
      "4039          -6.0          96.0      5  0.000478\n",
      "bb_type: popup, year: 2015\n",
      "     launch_angle  launch_speed  count  fraction\n",
      "671          69.0          80.0    785  0.514417\n",
      "550          64.0          87.1      3  0.001966\n",
      "266          56.0          75.2      2  0.001311\n",
      "428          61.0          76.8      2  0.001311\n",
      "554          64.0          89.6      2  0.001311\n",
      "bb_type: line_drive, year: 2016\n",
      "      launch_angle  launch_speed  count  fraction\n",
      "2339          18.0          91.1     18  0.003035\n",
      "1662          15.0          90.4     15  0.002530\n",
      "905           11.0         103.5      7  0.001180\n",
      "1526          14.0         100.5      7  0.001180\n",
      "897           11.0         102.7      6  0.001012\n",
      "bb_type: fly_ball, year: 2016\n",
      "      launch_angle  launch_speed  count  fraction\n",
      "2248          39.0          89.2    102  0.021384\n",
      "1841          36.0          89.1      6  0.001258\n",
      "539           27.0         100.5      5  0.001048\n",
      "1103          31.0          93.9      5  0.001048\n",
      "1798          36.0          71.4      5  0.001048\n",
      "bb_type: ground_ball, year: 2016\n",
      "      launch_angle  launch_speed  count  fraction\n",
      "1641         -21.0          82.9   1168  0.116358\n",
      "2187         -17.0          90.3    170  0.016936\n",
      "2728         -13.0          90.2     13  0.001295\n",
      "5798           3.0         105.9      6  0.000598\n",
      "2722         -13.0          88.8      5  0.000498\n",
      "bb_type: popup, year: 2016\n",
      "     launch_angle  launch_speed  count  fraction\n",
      "677          69.0          80.0    731  0.463832\n",
      "208          53.0          73.1      2  0.001269\n",
      "402          60.0          70.2      2  0.001269\n",
      "497          62.0          81.9      2  0.001269\n",
      "590          65.0          72.2      2  0.001269\n",
      "bb_type: line_drive, year: 2017\n",
      "      launch_angle  launch_speed  count  fraction\n",
      "2326          18.0          91.1     18  0.003150\n",
      "1649          15.0          90.4     10  0.001750\n",
      "2155          17.0          98.8      9  0.001575\n",
      "343            8.0         100.2      6  0.001050\n",
      "3193          22.0          94.1      6  0.001050\n",
      "bb_type: fly_ball, year: 2017\n",
      "      launch_angle  launch_speed  count  fraction\n",
      "2396          39.0          89.2    120  0.023139\n",
      "1060          30.0         102.8     21  0.004049\n",
      "394           26.0          99.6      5  0.000964\n",
      "1369          32.0          97.7      5  0.000964\n",
      "1307          32.0          87.1      5  0.000964\n",
      "bb_type: ground_ball, year: 2017\n",
      "      launch_angle  launch_speed  count  fraction\n",
      "1977         -21.0          82.9    584  0.058972\n",
      "2491         -17.0          90.3    110  0.011108\n",
      "3102         -13.0          90.2      7  0.000707\n",
      "5911           2.0         102.6      6  0.000606\n",
      "5450           0.0          99.8      5  0.000505\n",
      "bb_type: popup, year: 2017\n",
      "     launch_angle  launch_speed  count  fraction\n",
      "761          69.0          80.0    683  0.408493\n",
      "605          63.0          78.6      2  0.001196\n",
      "896          83.0          66.7      2  0.001196\n",
      "619          63.0          88.9      2  0.001196\n",
      "808          75.0          86.3      2  0.001196\n",
      "bb_type: line_drive, year: 2018\n",
      "      launch_angle  launch_speed  count  fraction\n",
      "2269          18.0          91.1     10  0.001743\n",
      "1599          15.0          90.4      9  0.001569\n",
      "1068          12.0         105.0      6  0.001046\n",
      "1822          16.0          93.2      6  0.001046\n",
      "1424          14.0          95.5      6  0.001046\n",
      "bb_type: fly_ball, year: 2018\n",
      "      launch_angle  launch_speed  count  fraction\n",
      "2450          39.0          89.2     70  0.013598\n",
      "563           27.0         101.0      5  0.000971\n",
      "1401          32.0          99.4      5  0.000971\n",
      "541           27.0          97.8      5  0.000971\n",
      "1865          35.0          94.2      5  0.000971\n",
      "bb_type: ground_ball, year: 2018\n",
      "      launch_angle  launch_speed  count  fraction\n",
      "1805         -21.0          82.9    640  0.067185\n",
      "2288         -17.0          90.3    135  0.014172\n",
      "5189           0.0          97.7      5  0.000525\n",
      "5430           1.0         103.9      5  0.000525\n",
      "6016           4.0          97.3      5  0.000525\n",
      "bb_type: popup, year: 2018\n",
      "     launch_angle  launch_speed  count  fraction\n",
      "707          69.0          80.0    810  0.477594\n",
      "322          56.0          73.6      2  0.001179\n",
      "300          55.0          74.4      2  0.001179\n",
      "251          53.0          73.1      2  0.001179\n",
      "97           44.0          71.2      2  0.001179\n",
      "bb_type: line_drive, year: 2019\n",
      "      launch_angle  launch_speed  count  fraction\n",
      "1598          15.0          90.4      9  0.001580\n",
      "844           11.0         102.1      7  0.001229\n",
      "2097          17.0          98.3      5  0.000878\n",
      "1474          14.0         103.2      5  0.000878\n",
      "669           10.0         104.0      5  0.000878\n",
      "bb_type: fly_ball, year: 2019\n",
      "      launch_angle  launch_speed  count  fraction\n",
      "2487          39.0          89.2     81  0.015358\n",
      "857           29.0          95.5      5  0.000948\n",
      "1907          35.0          92.0      5  0.000948\n",
      "3112          44.0          92.0      5  0.000948\n",
      "1201          31.0          94.1      5  0.000948\n",
      "bb_type: ground_ball, year: 2019\n",
      "      launch_angle  launch_speed  count  fraction\n",
      "1811         -21.0          82.9    679  0.070892\n",
      "2348         -17.0          90.3    131  0.013677\n",
      "5854           3.0         101.2      6  0.000626\n",
      "6080           4.0         101.5      6  0.000626\n",
      "6115           4.0         107.2      5  0.000522\n",
      "bb_type: popup, year: 2019\n",
      "     launch_angle  launch_speed  count  fraction\n",
      "616          69.0          80.0    835  0.508836\n",
      "60           42.0          46.8      2  0.001219\n",
      "538          64.0          88.1      2  0.001219\n",
      "326          58.0          78.6      2  0.001219\n",
      "432          61.0          80.9      2  0.001219\n",
      "bb_type: line_drive, year: 2020\n",
      "      launch_angle  launch_speed  count  fraction\n",
      "1650          16.0          94.1      7  0.001158\n",
      "1276          14.0         101.0      6  0.000993\n",
      "3639          26.0          96.6      6  0.000993\n",
      "2119          18.0         101.2      6  0.000993\n",
      "4161          29.0         103.1      6  0.000993\n",
      "bb_type: fly_ball, year: 2020\n",
      "      launch_angle  launch_speed  count  fraction\n",
      "698           32.0         101.2      5  0.001202\n",
      "690           32.0         100.4      5  0.001202\n",
      "809           33.0          89.7      4  0.000962\n",
      "688           32.0         100.2      4  0.000962\n",
      "1873          40.0          95.4      4  0.000962\n",
      "bb_type: ground_ball, year: 2020\n",
      "      launch_angle  launch_speed  count  fraction\n",
      "5503           0.0         105.6      5  0.000564\n",
      "5244          -1.0          94.4      5  0.000564\n",
      "5087          -2.0          99.2      5  0.000564\n",
      "5691           1.0         102.4      5  0.000564\n",
      "6603           6.0          99.7      4  0.000451\n",
      "bb_type: popup, year: 2020\n",
      "     launch_angle  launch_speed  count  fraction\n",
      "894          70.0          72.3      3  0.002048\n",
      "460          61.0          79.9      3  0.002048\n",
      "523          62.0          86.3      3  0.002048\n",
      "354          58.0          87.3      2  0.001365\n",
      "914          70.0          87.2      2  0.001365\n"
     ]
    }
   ],
   "source": [
    "for year,df in zip(range(2015, 2021),dfs):\n",
    "    for bb_type in dfs[0].bb_type.dropna().unique():\n",
    "        # Isolate each bb_type\n",
    "        i = df[df[\"bb_type\"] == bb_type]\n",
    "        # Sort by pairs of launch angle and speed\n",
    "        i = i.groupby([\"launch_angle\", \"launch_speed\"]).size().reset_index(name=\"count\").sort_values(\"count\", ascending=False)\n",
    "        # Derive fraction of total\n",
    "        i[\"fraction\"] = i[\"count\"] / i[\"count\"].sum()\n",
    "        print(f\"bb_type: {bb_type}, year: {year}\")\n",
    "        print(i.head(5))"
   ]
  },
  {
   "cell_type": "markdown",
   "metadata": {},
   "source": [
    "I've copy/pasted the above table and bolded the ones I believe to be \"obviously confirmed\" from the eyeball-test:\n",
    "\n",
    "| launch_angle | launch_speed |     bb_type | Years above threshold |\n",
    "|-------------:|-------------:|------------:|----------------------:|\n",
    "|        **-21.0** |         **82.9** | **ground_ball** |                     5 |\n",
    "|        **-17.0** |         **90.3** | **ground_ball** |                     5 |\n",
    "|         **15.0** |         **90.4** |  **line_drive** |                     2 |\n",
    "|        **18.0** |         **91.1** |  **line_drive** |                     3 |\n",
    "|         30.0 |        102.8 |    fly_ball |                     1 |\n",
    "|         **39.0** |         **89.2** |    **fly_ball** |                     5 |\n",
    "|         61.0 |         79.9 |       popup |                     1 |\n",
    "|         62.0 |         86.3 |       popup |                     1 |\n",
    "|         **69.0** |         **80.0** |       **popup** |                     5 |\n",
    "|         70.0 |         72.3 |       popup |                     1 |\n",
    "\n",
    "Not \"obviously confirmed\" sets:\n",
    "\n",
    "- 30.0, 102.8 - only shows up in 2015 and 2017. 2015 could go either way, but 2017 seems to be a true outlier.\n",
    "- 61.0, 79.9 - statistical fluctuation from 2020 (smaller dataset due to COVID cancelled games), not worth dropping\n",
    "- 62.0, 86.3 - same as above\n",
    "- 70.0, 72.3 - same as above\n",
    "\n",
    "**Proposal: removal of the bolded combinations in the table above, as well as 30.0/102.8.**"
   ]
  }
 ],
 "metadata": {
  "kernelspec": {
   "display_name": "pybaseball-dev",
   "language": "python",
   "name": "pybaseball-dev"
  },
  "language_info": {
   "codemirror_mode": {
    "name": "ipython",
    "version": 3
   },
   "file_extension": ".py",
   "mimetype": "text/x-python",
   "name": "python",
   "nbconvert_exporter": "python",
   "pygments_lexer": "ipython3",
   "version": "3.8.5"
  }
 },
 "nbformat": 4,
 "nbformat_minor": 4
}
